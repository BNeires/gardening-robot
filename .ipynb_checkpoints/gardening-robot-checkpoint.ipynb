{
 "cells": [
  {
   "cell_type": "markdown",
   "metadata": {},
   "source": [
    "# Nanodegree Engenheiro de Machine Learning\n",
    "## Proposta de projeto final"
   ]
  },
  {
   "cell_type": "code",
   "execution_count": null,
   "metadata": {},
   "outputs": [],
   "source": [
    "# Bibliotecas necessárias para este projeto\n",
    "import numpy as np\n",
    "import pandas as pd\n",
    "import renders as rs\n",
    "from IPython.display import display \n",
    "\n",
    "# Mostre matplotlib no corpo do texto (bem formatado no Notebook)\n",
    "%matplotlib inline\n",
    "\n",
    "# Carregamento do conjunto de dados dos veículos\n",
    "try:\n",
    "    data_csv = pd.read_csv(\"solo.csv\")\n",
    "    print \"Base de dados contém {} passagens com {} características cada.\".format(*data_csv.shape)\n",
    "except:\n",
    "    print \"Dataset could not be loaded. Is the dataset missing??\""
   ]
  }
 ],
 "metadata": {
  "kernelspec": {
   "display_name": "Python 2",
   "language": "python",
   "name": "python2"
  },
  "language_info": {
   "codemirror_mode": {
    "name": "ipython",
    "version": 2
   },
   "file_extension": ".py",
   "mimetype": "text/x-python",
   "name": "python",
   "nbconvert_exporter": "python",
   "pygments_lexer": "ipython2",
   "version": "2.7.15"
  }
 },
 "nbformat": 4,
 "nbformat_minor": 2
}
